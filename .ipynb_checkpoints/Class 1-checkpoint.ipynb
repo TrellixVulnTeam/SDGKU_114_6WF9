{
 "cells": [
  {
   "cell_type": "markdown",
   "id": "0b6542d8",
   "metadata": {},
   "source": [
    "for letter in \"hello world\":\n",
    "    print(letter)"
   ]
  },
  {
   "cell_type": "markdown",
   "id": "0dc9c574",
   "metadata": {},
   "source": [
    "# Problem 1\n",
    "### Given 2 strings (string_a and string_b) let's check whether or not they are anagrams of each other given the following criteria:\n",
    "\n",
    "> Two strings are only anagrams of each other if all condtitions below are met:\n",
    "> * They must be exactly the same length.\n",
    "> * The must a use the same characters (no more, no less).\n",
    "\n",
    "---\n",
    "Example(s): cars and scar, heart and earth, ect."
   ]
  },
  {
   "cell_type": "code",
   "execution_count": 1,
   "id": "86939bf2",
   "metadata": {},
   "outputs": [
    {
     "name": "stdout",
     "output_type": "stream",
     "text": [
      "True\n"
     ]
    }
   ],
   "source": [
    "def anagram(string1, string2):\n",
    "    return sorted(string1) == sorted(string2)\n",
    "\n",
    "print(anagram(\"listen\", \"silent\"))"
   ]
  },
  {
   "cell_type": "code",
   "execution_count": 3,
   "id": "342d38bd",
   "metadata": {},
   "outputs": [
    {
     "name": "stdout",
     "output_type": "stream",
     "text": [
      "True\n",
      "True\n",
      "False\n",
      "True\n"
     ]
    }
   ],
   "source": [
    "def anagram(string1, string2):\n",
    "    string1 = string1.replace(\" \", \"\").lower()\n",
    "    string2 = string2.replace(\" \", \"\").lower()\n",
    "    \n",
    "    a = {}\n",
    "    for i in string1:\n",
    "        if i not in a:\n",
    "            a[i] = 0\n",
    "            a[i] += 1\n",
    "            \n",
    "    b = {}\n",
    "    for i in string2:\n",
    "        if i not in b:\n",
    "            b[i] = 0\n",
    "            b[i] += 1\n",
    "        \n",
    "    return a == b\n",
    "\n",
    "print(anagram('silent', 'listen'))\n",
    "print(anagram('sile nt', 'listen'))\n",
    "print(anagram('silent', 'lihgsten'))\n",
    "print(anagram('Tilens', 'listen'))\n",
    "\n",
    "    "
   ]
  },
  {
   "cell_type": "code",
   "execution_count": null,
   "id": "46155ae7",
   "metadata": {},
   "outputs": [],
   "source": []
  }
 ],
 "metadata": {
  "kernelspec": {
   "display_name": "Python 3 (ipykernel)",
   "language": "python",
   "name": "python3"
  },
  "language_info": {
   "codemirror_mode": {
    "name": "ipython",
    "version": 3
   },
   "file_extension": ".py",
   "mimetype": "text/x-python",
   "name": "python",
   "nbconvert_exporter": "python",
   "pygments_lexer": "ipython3",
   "version": "3.10.2"
  }
 },
 "nbformat": 4,
 "nbformat_minor": 5
}
