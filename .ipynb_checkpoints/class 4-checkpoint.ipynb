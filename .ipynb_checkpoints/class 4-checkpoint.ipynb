{
 "cells": [
  {
   "cell_type": "code",
   "execution_count": 18,
   "id": "77ca839e",
   "metadata": {},
   "outputs": [],
   "source": [
    "class Node:\n",
    "\n",
    "    def __init__(self, data):\n",
    "\n",
    "\n",
    "        self.data = data\n",
    "\n",
    "        self.next = None\n",
    "\n",
    "class LinkedList:\n",
    "\n",
    "    def __init__(self):\n",
    "        self.head = None\n",
    "        \n",
    "    def append(self, item):\n",
    "        \n",
    "        new_node = Node(item)\n",
    "        if not self.head:\n",
    "            self.head = new_node\n",
    "        else:\n",
    "            current = self.head\n",
    "            while current.next:\n",
    "                current = current.next\n",
    "            current.next = new_node\n",
    "                \n",
    "    def insert(self, index, item):\n",
    "        if index < 0:\n",
    "            raise IndexError(\"Unsupported index\")\n",
    "        new_node = Node(item)\n",
    "        if not self.head:\n",
    "            self.head = new_node\n",
    "        elif index == 0:\n",
    "            new_node.next = self.head\n",
    "            self.head = new_node\n",
    "        else:\n",
    "            counter = 0\n",
    "            current = self.head\n",
    "            prev = None\n",
    "            while current.next and index != counter:\n",
    "                prev = current\n",
    "                current = current.next\n",
    "                counter += 1\n",
    "            if index == counter:\n",
    "                prev.next = new_node\n",
    "                new_node.next = current\n",
    "            else:\n",
    "                current.next = new_code\n",
    "                        \n",
    "    def remove(self, value):\n",
    "        current = self.head\n",
    "        if not current:\n",
    "            raise ValueError(\"There's nothing to remove\")\n",
    "        if current.data == value:\n",
    "                self.head = current.next\n",
    "        else:\n",
    "            prev = None\n",
    "            while current.next and current.data != value:\n",
    "                prev = current\n",
    "                current = current.next\n",
    "            if current.data == value:\n",
    "                prev.next = current.next\n",
    "            else:\n",
    "                raise ValueError(\"%s is not in list.\" % value)\n",
    "                    \n",
    "        \n",
    "        def __str__(self):\n",
    "            output_str = \"[\"\n",
    "            current = self.head\n",
    "            output_str += \"%s\" % current.data\n",
    "            current = current.next\n",
    "            while current:\n",
    "                output_str += \", %s\" % current.data\n",
    "                current = current.next\n",
    "            output_str += \"]\"\n",
    "            return output_str\n",
    "        \n",
    "        def __len__(self):\n",
    "            current = self.head\n",
    "            length = 0\n",
    "            while current:\n",
    "                current = current.next\n",
    "                length += 1\n",
    "            return length\n",
    "                \n",
    "    \n",
    "                \n"
   ]
  },
  {
   "cell_type": "code",
   "execution_count": 20,
   "id": "b4f96ca8",
   "metadata": {},
   "outputs": [
    {
     "name": "stdout",
     "output_type": "stream",
     "text": [
      "<__main__.LinkedList object at 0x1037e1660>\n"
     ]
    },
    {
     "ename": "TypeError",
     "evalue": "object of type 'LinkedList' has no len()",
     "output_type": "error",
     "traceback": [
      "\u001b[0;31m---------------------------------------------------------------------------\u001b[0m",
      "\u001b[0;31mTypeError\u001b[0m                                 Traceback (most recent call last)",
      "Input \u001b[0;32mIn [20]\u001b[0m, in \u001b[0;36m<cell line: 15>\u001b[0;34m()\u001b[0m\n\u001b[1;32m     12\u001b[0m \u001b[38;5;28;01massert\u001b[39;00m mylist\u001b[38;5;241m.\u001b[39mhead\u001b[38;5;241m.\u001b[39mdata \u001b[38;5;241m==\u001b[39m \u001b[38;5;241m-\u001b[39m\u001b[38;5;241m1\u001b[39m\n\u001b[1;32m     14\u001b[0m \u001b[38;5;28mprint\u001b[39m(mylist)\n\u001b[0;32m---> 15\u001b[0m \u001b[38;5;28mprint\u001b[39m(\u001b[38;5;28;43mlen\u001b[39;49m\u001b[43m(\u001b[49m\u001b[43mmylist\u001b[49m\u001b[43m)\u001b[49m)\n",
      "\u001b[0;31mTypeError\u001b[0m: object of type 'LinkedList' has no len()"
     ]
    }
   ],
   "source": [
    "mylist = LinkedList()\n",
    "for i in range (5):\n",
    "    mylist.append(i)\n",
    "    \n",
    "current = mylist.head\n",
    "for i in range(5):\n",
    "    assert current.data == i\n",
    "    current = current.next\n",
    "    \n",
    "mylist.insert(0, -1)\n",
    "\n",
    "assert mylist.head.data == -1\n",
    "\n",
    "print(mylist)\n",
    "print(len(mylist))"
   ]
  },
  {
   "cell_type": "code",
   "execution_count": null,
   "id": "97f24b7f",
   "metadata": {},
   "outputs": [],
   "source": []
  },
  {
   "cell_type": "code",
   "execution_count": null,
   "id": "7b784341",
   "metadata": {},
   "outputs": [],
   "source": []
  }
 ],
 "metadata": {
  "kernelspec": {
   "display_name": "Python 3 (ipykernel)",
   "language": "python",
   "name": "python3"
  },
  "language_info": {
   "codemirror_mode": {
    "name": "ipython",
    "version": 3
   },
   "file_extension": ".py",
   "mimetype": "text/x-python",
   "name": "python",
   "nbconvert_exporter": "python",
   "pygments_lexer": "ipython3",
   "version": "3.10.2"
  }
 },
 "nbformat": 4,
 "nbformat_minor": 5
}
