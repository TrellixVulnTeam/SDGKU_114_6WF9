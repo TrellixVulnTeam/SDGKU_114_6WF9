{
 "cells": [
  {
   "cell_type": "code",
   "execution_count": 12,
   "id": "4cd5b0d2",
   "metadata": {},
   "outputs": [
    {
     "name": "stdout",
     "output_type": "stream",
     "text": [
      "True\n",
      "True\n",
      "False\n",
      "False\n"
     ]
    }
   ],
   "source": [
    "def balance_checker(brac):\n",
    "    if len(brac) % 2 != 0:\n",
    "        return False\n",
    "    stack = []\n",
    "    pairs = {\"[\":\"]\", \"(\":\")\", \"{\":\"}\"}\n",
    "    for i in brac:\n",
    "        if i in pairs.keys():\n",
    "            stack.append(i)\n",
    "        elif stack == [] and i in pairs.values():\n",
    "            return False\n",
    "        elif i != pairs[stack.pop()]:\n",
    "            return False\n",
    "    return stack == []\n",
    "\n",
    "print(balance_checker(\"{}()[]\"))\n",
    "print(balance_checker(\"{}([])\"))\n",
    "print(balance_checker(\"{}()[]]\"))\n",
    "print(balance_checker(\"{}()[ ]\"))"
   ]
  },
  {
   "cell_type": "code",
   "execution_count": null,
   "id": "3c55fe0b",
   "metadata": {},
   "outputs": [],
   "source": []
  },
  {
   "cell_type": "code",
   "execution_count": null,
   "id": "ac083ffd",
   "metadata": {},
   "outputs": [],
   "source": []
  }
 ],
 "metadata": {
  "kernelspec": {
   "display_name": "Python 3 (ipykernel)",
   "language": "python",
   "name": "python3"
  },
  "language_info": {
   "codemirror_mode": {
    "name": "ipython",
    "version": 3
   },
   "file_extension": ".py",
   "mimetype": "text/x-python",
   "name": "python",
   "nbconvert_exporter": "python",
   "pygments_lexer": "ipython3",
   "version": "3.10.2"
  }
 },
 "nbformat": 4,
 "nbformat_minor": 5
}
