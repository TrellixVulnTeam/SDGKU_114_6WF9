{
 "cells": [
  {
   "cell_type": "code",
   "execution_count": 2,
   "id": "9bbf601f",
   "metadata": {},
   "outputs": [],
   "source": [
    "class Stack:\n",
    "    def __init__(self):\n",
    "        self.items = []\n",
    "        \n",
    "    def push (self, element):\n",
    "        self.items.append(element)\n",
    "        \n",
    "    def pop (self):\n",
    "        return self.items.pop()\n",
    "    \n",
    "    def get_size(self):\n",
    "        return len(self.items)\n",
    "    \n",
    "    def is_empty(self):\n",
    "        return self.items == []"
   ]
  },
  {
   "cell_type": "code",
   "execution_count": 3,
   "id": "42154788",
   "metadata": {},
   "outputs": [
    {
     "name": "stdout",
     "output_type": "stream",
     "text": [
      "Pushing 1\n",
      "Pushing 2\n",
      "Pushing 3\n",
      "Pushing 4\n",
      "Pushing 5\n",
      "Got 5 from pop result\n",
      "Got 4 from pop result\n",
      "Got 3 from pop result\n",
      "Got 2 from pop result\n",
      "Got 1 from pop result\n"
     ]
    }
   ],
   "source": [
    "numbers = [1, 2, 3, 4, 5]\n",
    "\n",
    "def print_inverted_list(my_collection):\n",
    "    stack = Stack()\n",
    "    for number in numbers:\n",
    "        print(\"Pushing %s\" % number)\n",
    "        stack.push(number)\n",
    "    while not stack.is_empty():\n",
    "        number = stack.pop()\n",
    "        print(\"Got %s from pop result\" % number)\n",
    "        \n",
    "print_inverted_list(numbers)"
   ]
  },
  {
   "cell_type": "markdown",
   "id": "102f9c2d",
   "metadata": {},
   "source": [
    "# Mini Challenge 1\n",
    "# Use a stack to invert a string \n",
    "### Given \"mystring\" as a parameter to invert it."
   ]
  },
  {
   "cell_type": "code",
   "execution_count": 6,
   "id": "adfc4351",
   "metadata": {},
   "outputs": [],
   "source": [
    "class stack:\n",
    "    def __init__(self):\n",
    "        self.items = []\n",
    "        \n",
    "    def push(self, element):\n",
    "        self.items.append(element)\n",
    "        \n",
    "    def pop(self):\n",
    "        return self.items.pop()\n",
    "        \n",
    "    def get_size(self):\n",
    "        return len(self.items)\n",
    "\n",
    "    def is_empty(self):\n",
    "        return self.items == []\n",
    "    \n",
    "    "
   ]
  },
  {
   "cell_type": "code",
   "execution_count": 14,
   "id": "f3113d44",
   "metadata": {},
   "outputs": [
    {
     "name": "stdout",
     "output_type": "stream",
     "text": [
      "gnirtsym\n"
     ]
    }
   ],
   "source": [
    "def reverse_string(stack, input_str):\n",
    "    \n",
    "    for i in range(len(input_str)):\n",
    "        stack.push(input_str[i])\n",
    "        \n",
    "    rev_str = \"\"\n",
    "    while not stack.is_empty():\n",
    "        rev_str += stack.pop()\n",
    "        \n",
    "    return rev_str\n",
    "\n",
    "stack = Stack()\n",
    "input_str = \"mystring\"\n",
    "\n",
    "print(reverse_string(stack, input_str))\n",
    "        \n",
    "    "
   ]
  },
  {
   "cell_type": "code",
   "execution_count": null,
   "id": "315be138",
   "metadata": {},
   "outputs": [],
   "source": []
  }
 ],
 "metadata": {
  "kernelspec": {
   "display_name": "Python 3 (ipykernel)",
   "language": "python",
   "name": "python3"
  },
  "language_info": {
   "codemirror_mode": {
    "name": "ipython",
    "version": 3
   },
   "file_extension": ".py",
   "mimetype": "text/x-python",
   "name": "python",
   "nbconvert_exporter": "python",
   "pygments_lexer": "ipython3",
   "version": "3.10.2"
  }
 },
 "nbformat": 4,
 "nbformat_minor": 5
}
